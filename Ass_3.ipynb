{
  "nbformat": 4,
  "nbformat_minor": 0,
  "metadata": {
    "colab": {
      "provenance": []
    },
    "kernelspec": {
      "name": "python3",
      "display_name": "Python 3"
    },
    "language_info": {
      "name": "python"
    }
  },
  "cells": [
    {
      "cell_type": "markdown",
      "source": [
        "Import Libraries"
      ],
      "metadata": {
        "id": "YEHNQ6TJd_gA"
      }
    },
    {
      "cell_type": "code",
      "source": [
        "import numpy as np\n",
        "import math"
      ],
      "metadata": {
        "id": "iEL8np-4FG4i"
      },
      "execution_count": null,
      "outputs": []
    },
    {
      "cell_type": "markdown",
      "source": [
        "1.Create a vector (array) of 1XN dimension representing N-\n",
        "dimensional feature vector of a sample. Write a program to\n",
        "\n",
        "compute the mean and variance of the elements present in the\n",
        "array."
      ],
      "metadata": {
        "id": "9Ejoqo9sE1bw"
      }
    },
    {
      "cell_type": "code",
      "execution_count": null,
      "metadata": {
        "colab": {
          "base_uri": "https://localhost:8080/"
        },
        "id": "wZQAKuotEx4e",
        "outputId": "e730bc57-a003-4f3a-e8cb-69bc4d62a3b5"
      },
      "outputs": [
        {
          "output_type": "stream",
          "name": "stdout",
          "text": [
            "vector :[ 2  9 10  5  7  1 12 17 18  6]\n",
            "mean:8.70\n",
            "sample variance:32.90\n",
            "population variance:29.61\n"
          ]
        }
      ],
      "source": [
        "\n",
        "N=10\n",
        "vector = np.array([2,9,10,5,7,1,12,17,18,6])\n",
        "mean  = np.mean(vector)\n",
        "diff =  (vector - mean)**2\n",
        "sample_variance = np.sum(diff)/(N-1)\n",
        "pop_variance = np.sum(diff)/N\n",
        "print(f\"vector :{vector}\")\n",
        "print(f\"mean:{mean:.2f}\")\n",
        "print(f\"sample variance:{sample_variance:.2f}\")\n",
        "print(f\"population variance:{pop_variance:.2f}\")"
      ]
    },
    {
      "cell_type": "markdown",
      "source": [
        "2.Create two vectors each of dimension 1XM each representing N-\n",
        "dimensional feature vector of a sample. Write a program to\n",
        "\n",
        "compute the Covariance between them."
      ],
      "metadata": {
        "id": "L2MAagrNJEDo"
      }
    },
    {
      "cell_type": "code",
      "source": [
        "V1 =  np.array([3,6,7,10,6,9])\n",
        "V2 =  np.array([5,9,8,1,2,4])\n",
        "n= len( V1)\n",
        "cov = 0.0\n",
        "mx = np.mean(V1)\n",
        "my = np.mean(V2)\n",
        "print(mx,my)\n",
        "for i in range(n):\n",
        "  x_i= V1[i]\n",
        "  y_i = V2[i]\n",
        "  pro= (x_i - mx)*(y_i-my)\n",
        "  cov+=pro\n",
        "r=cov/(n-1)\n",
        "print(f\"covariance:{cov:.3f}\")"
      ],
      "metadata": {
        "colab": {
          "base_uri": "https://localhost:8080/"
        },
        "id": "eeW4Q-CmJFh_",
        "outputId": "f9309912-e1fd-4d43-9bcd-888131ed9de6"
      },
      "execution_count": null,
      "outputs": [
        {
          "output_type": "stream",
          "name": "stdout",
          "text": [
            "6.833333333333333 4.833333333333333\n",
            "covariance:-15.167\n"
          ]
        }
      ]
    },
    {
      "cell_type": "markdown",
      "source": [
        "3.Create two vectors each of dimension 1XN. Write a program to\n",
        "compute the Correlation between them."
      ],
      "metadata": {
        "id": "BFwlmeW_KOHX"
      }
    },
    {
      "cell_type": "code",
      "source": [
        "V1 =  np.array([11,2,13,10,21,9])\n",
        "V2 =  np.array([14,6,18,1,9,3])\n",
        "n= len( V1)\n",
        "cov = 0.0\n",
        "cor =0.0\n",
        "mx = np.mean(V1)\n",
        "my = np.mean(V2)\n",
        "print(mx,my)\n",
        "vx = np.var(V1)\n",
        "vy = np.var(V2)\n",
        "print(vx,vy)\n",
        "for i in range(n):\n",
        "  x_i= V1[i]\n",
        "  y_i = V2[i]\n",
        "  pro= (x_i - mx)*(y_i-my)\n",
        "  cov+=pro\n",
        "r=cov/(n-1)\n",
        "d=math.sqrt(vx*vy)\n",
        "cor = r/d\n",
        "print(f\"covariance:{cov:.3f}\")\n",
        "print(f\"correlation:{cor:.3f}\")"
      ],
      "metadata": {
        "colab": {
          "base_uri": "https://localhost:8080/"
        },
        "id": "-WNwIYzxKPAT",
        "outputId": "a01063ed-81a1-41c4-d363-5832b24ef85e"
      },
      "execution_count": null,
      "outputs": [
        {
          "output_type": "stream",
          "name": "stdout",
          "text": [
            "11.0 8.5\n",
            "31.666666666666668 35.583333333333336\n",
            "covariance:65.000\n",
            "correlation:0.387\n"
          ]
        }
      ]
    },
    {
      "cell_type": "markdown",
      "source": [
        "4.Create a Matrix of MXN dimension representing the M-dimensional\n",
        "feature vector for N number of samples i. e (i,j)th entry of the matrix\n",
        "represents the ith feature of jth sample. Write a program to compute\n",
        "the covariance matrix and correlation matrix. Comment on\n",
        "takeaways from these matrixes."
      ],
      "metadata": {
        "id": "lsRa1YShK70N"
      }
    },
    {
      "cell_type": "code",
      "source": [
        "Matrix = np.array([[21,11,8],[3,17,9],[18,4,12],[11,0,13]])\n",
        "print(Matrix)\n",
        "cov_matrix = np.cov(Matrix, bias=False)\n",
        "cor_matrix = np.corrcoef(Matrix)\n",
        "print(f\"covariance matrix:{cov_matrix}\")\n",
        "print(f\"correlation matrix:{cor_matrix}\")"
      ],
      "metadata": {
        "colab": {
          "base_uri": "https://localhost:8080/"
        },
        "id": "XfhwTg42K9Gc",
        "outputId": "2006b37b-d9af-4693-86f8-514c0d9332d1"
      },
      "execution_count": null,
      "outputs": [
        {
          "output_type": "stream",
          "name": "stdout",
          "text": [
            "[[21 11  8]\n",
            " [ 3 17  9]\n",
            " [18  4 12]\n",
            " [11  0 13]]\n",
            "covariance matrix:[[ 46.33333333 -32.33333333  32.33333333   7.5       ]\n",
            " [-32.33333333  49.33333333 -49.33333333 -41.        ]\n",
            " [ 32.33333333 -49.33333333  49.33333333  41.        ]\n",
            " [  7.5        -41.          41.          49.        ]]\n",
            "correlation matrix:[[ 1.         -0.6762908   0.6762908   0.15740425]\n",
            " [-0.6762908   1.         -1.         -0.8339031 ]\n",
            " [ 0.6762908  -1.          1.          0.8339031 ]\n",
            " [ 0.15740425 -0.8339031   0.8339031   1.        ]]\n"
          ]
        }
      ]
    }
  ]
}